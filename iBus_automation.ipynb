{
 "cells": [
  {
   "cell_type": "code",
   "execution_count": null,
   "metadata": {},
   "outputs": [],
   "source": [
    "import pandas as pd\n",
    "# Output results as int but dont round values\n",
    "pd.set_option(\"precision\", 0) "
   ]
  },
  {
   "cell_type": "code",
   "execution_count": null,
   "metadata": {},
   "outputs": [],
   "source": [
    "#enter the list of buses, located in separate excel files.\n",
    "bus_list =[\"121\",\"191\",\"192\",\"231\",\"307\",\"313\",\"317\",\"329\",\"377\",\"W8\",\"W9\",\"W10\"] \n",
    "#enter the folders, each containing the bus_list excel files\n",
    "folder_names =[\"5th December 2019\",\"7 December 2019\",\"7 March 2020\",\"13 February 2020\"] "
   ]
  },
  {
   "cell_type": "code",
   "execution_count": null,
   "metadata": {},
   "outputs": [],
   "source": [
    "# For each folder, load each excel file and extract the require infomation, from the two sheets (representing the two directions in reality).\n",
    "res =[]\n",
    "for folder in range(len(folder_names)):\n",
    "    root = folder_names[folder]\n",
    "    for bus in range(len(bus_list)):\n",
    "        bus_route = str(bus_list[bus]) + \".xlsx\"\n",
    "        for sheet in range(2):\n",
    "            try:\n",
    "                #load sheet names as a list to be used at the end\n",
    "                sheet_names = list(pd.read_excel(root +\"/\" + bus_route, sheet_name=None))\n",
    "                # For the current folder, read the current sheet.\n",
    "                data = pd.read_excel(root +\"/\" + bus_route, sheet_name=sheet, header=58) \n",
    "                # Drop the row containing the averages.\n",
    "                data_no_totals = data[data.TP != \"All\"] \n",
    "                # Extract the MeAJT column\n",
    "                MeAJT = pd.Series(data_no_totals[\"MeAJT\"]) \n",
    "                # Extract the MADT column\n",
    "                total_MeAJT = pd.Series(int(sum(MeAJT)))\n",
    "                # Sum the MeAJT, per sheet\n",
    "                MADT = pd.Series(data_no_totals[\"MADT\"]) \n",
    "                # Sum the MADT, per sheet\n",
    "                total_MADT = pd.Series(int(sum(MADT))) \n",
    "                \n",
    "                # Join values and their totals side by side\n",
    "                extracted_values = pd.concat([MeAJT, total_MeAJT], axis=0)\n",
    "                totals = pd.concat([MADT, total_MADT], axis=0)\n",
    "                \n",
    "                # Join the above vertically, reset index values so that the last index can be set as total. Rename columns.\n",
    "                summary_of_results = pd.concat([extracted_values,totals], axis =1)\n",
    "                summary_of_results.reset_index(drop=True, inplace=True)\n",
    "                summary_of_results.rename(columns = {0: \"MeAJT\", 1:\"MADT\"}, index ={summary_of_results.index[-1]: \"Total\"}, inplace=True) # Rename the columns\n",
    "                bus_information = [\"Bus \"+ str(bus_list[bus]) + \" to \" + str(sheet_names[sheet]) + \", in the folder: \" + str(folder_names[folder])]\n",
    "                res.append([bus_information,summary_of_results])\n",
    "            # Catch errors if there are less than 2 sheets or if the sheet is blank.\n",
    "            except IndexError: \n",
    "                \"\"\n",
    "            except AttributeError:\n",
    "                \"\""
   ]
  },
  {
   "cell_type": "code",
   "execution_count": null,
   "metadata": {},
   "outputs": [],
   "source": [
    "res"
   ]
  }
 ],
 "metadata": {
  "kernelspec": {
   "display_name": "Python 3",
   "language": "python",
   "name": "python3"
  },
  "language_info": {
   "codemirror_mode": {
    "name": "ipython",
    "version": 3
   },
   "file_extension": ".py",
   "mimetype": "text/x-python",
   "name": "python",
   "nbconvert_exporter": "python",
   "pygments_lexer": "ipython3",
   "version": "3.8.3"
  }
 },
 "nbformat": 4,
 "nbformat_minor": 4
}
