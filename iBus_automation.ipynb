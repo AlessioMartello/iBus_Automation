{
 "cells": [
  {
   "cell_type": "code",
   "execution_count": 1,
   "metadata": {},
   "outputs": [],
   "source": [
    "import pandas as pd"
   ]
  },
  {
   "cell_type": "code",
   "execution_count": 2,
   "metadata": {},
   "outputs": [],
   "source": [
    "bus_list =[\"121\",\"191\",\"192\",\"231\",\"307\",\"313\",\"317\",\"329\",\"377\",\"W8\",\"W9\",\"W10\"] #enter the list of buses, located in separate excel files.\n",
    "folder_names =[\"5th December 2019\",\"7 December 2019\",\"7 March 2020\",\"13 February 2020\"] #enter the folders, each containing the bus_list excel files"
   ]
  },
  {
   "cell_type": "code",
   "execution_count": 26,
   "metadata": {},
   "outputs": [],
   "source": [
    "# For each folder, load each excel file and extract the require infomation, from the two sheets (representing the two directions in reality).\n",
    "x =[]\n",
    "for folder in range(len(folder_names)):\n",
    "    root = folder_names[folder]\n",
    "#     print(\"Folder name is: \" + str(folder_names[folder]))\n",
    "    for bus in range(len(bus_list)):\n",
    "        bus_route = str(bus_list[bus]) + \".xlsx\"\n",
    "#         print(\"Bus route is: \" + str(bus_route))\n",
    "        for sheet in range(2):\n",
    "#             print(\"Sheet number is: \" +str(sheet))\n",
    "            try:\n",
    "                data = pd.read_excel(root +\"/\" + bus_route, sheet_name=sheet, header=58) # For the current folder, read the current sheet.\n",
    "                data_no_totals = data[data.TP != \"All\"] # Drop the row containing the averages.\n",
    "                MeAJT = data_no_totals[\"MeAJT\"] # Extract the MeAJT column\n",
    "                MADT = data_no_totals[\"MADT\"] # Extract the MADT column\n",
    "                total_MeAJT = int(sum(MeAJT)) # Sum the MeAJT, per sheet\n",
    "                total_MADT = int(sum(MADT)) # Sum the MADT, per sheeT\n",
    "\n",
    "                df = pd.Series(MeAJT, dtype=int)\n",
    "                df2 = pd.Series(total_MeAJT)\n",
    "                df3 = pd.Series(MADT, dtype=int)\n",
    "                df4 = pd.Series(total_MADT)\n",
    "                \n",
    "                df5 = pd.concat([df, df2], axis=0)\n",
    "                df6 = pd.concat([df3, df4], axis=0)\n",
    "                \n",
    "                df7 = pd.concat([df5,df6], axis =1)\n",
    "#                 df7.reset_index(drop=True, inplace=True)\n",
    "                df7.rename(columns = {0: \"MeAJT\", 1:\"MADT\"}, index ={df.index[-1]: \"Total\"}, inplace=True) # Rename the columns\n",
    "                x.append([\"Bus \"+ str(bus_list[bus]) + \" in the direction on sheet \" + str(sheet) + \", in the folder: \" + str(folder_names[folder]),df7])\n",
    "            # Catch errors if there are less than 2 sheets or if the sheet is blank.\n",
    "            except IndexError: \n",
    "                \"\"\n",
    "            except AttributeError:\n",
    "                \"\""
   ]
  },
  {
   "cell_type": "code",
   "execution_count": null,
   "metadata": {},
   "outputs": [],
   "source": []
  }
 ],
 "metadata": {
  "kernelspec": {
   "display_name": "Python 3",
   "language": "python",
   "name": "python3"
  },
  "language_info": {
   "codemirror_mode": {
    "name": "ipython",
    "version": 3
   },
   "file_extension": ".py",
   "mimetype": "text/x-python",
   "name": "python",
   "nbconvert_exporter": "python",
   "pygments_lexer": "ipython3",
   "version": "3.8.3"
  }
 },
 "nbformat": 4,
 "nbformat_minor": 4
}
